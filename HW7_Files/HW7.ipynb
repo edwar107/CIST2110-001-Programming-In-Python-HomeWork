{
 "cells": [
  {
   "cell_type": "markdown",
   "metadata": {},
   "source": [
    "# HW7\n",
    "\n",
    "Name: Terrisha Edwards "
   ]
  },
  {
   "cell_type": "code",
   "execution_count": 13,
   "metadata": {},
   "outputs": [],
   "source": [
    "# inside of the HW7_Files folder there is a text file called Dracula.txt that we will be using for this assignment\n",
    "\n",
    "# read in the Dracula.txt file and store it in a variable called dracula_text\n",
    "# Note the file is utf-8 encoded\n",
    "\n"
   ]
  },
  {
   "cell_type": "code",
   "execution_count": 18,
   "metadata": {},
   "outputs": [],
   "source": [
    "# Create a method that will get the text inbetween the Gutenberg and START OF THIS PROJECT GUTENBERG EBOOK DRACULA lines. Name the method get_text(text) and have it return the text inbetween the two lines.\n",
    "# You can look for the following 2 strings:\n",
    "# *** START OF THE PROJECT GUTENBERG EBOOK DRACULA ***\n",
    "# *** END OF THE PROJECT GUTENBERG EBOOK DRACULA ***\n",
    "# Update the variable called dracula_text that is the result of calling the get_text method on the dracula_text variable\n",
    "with open('Dracula.txt', 'r', encoding='utf-8') as file:\n",
    "    text = file.read()\n",
    "\n",
    "def remove_dracula_header_footer(text):\n",
    "    start = text.find('*** START OF THE PROJECT GUTENBERG EBOOK DRACULA ***')\n",
    "    end = text.find('*** END OF THE PROJECT GUTENBERG EBOOK DRACULA ***')\n",
    "\n",
    "    text1 = text[start:end]\n",
    "\n",
    "    return text[start:end]\n"
   ]
  },
  {
   "cell_type": "code",
   "execution_count": 19,
   "metadata": {},
   "outputs": [],
   "source": [
    "# Clean the text by removing all punctuation and numbers. You can use the replace method to do this. Replace all punctuation and numbers with an empty string.\n",
    "\n",
    "fixed_text =  remove_dracula_header_footer(text)\n",
    "\n"
   ]
  },
  {
   "cell_type": "code",
   "execution_count": 25,
   "metadata": {},
   "outputs": [
    {
     "ename": "SyntaxError",
     "evalue": "f-string: invalid syntax. Perhaps you forgot a comma? (1989564970.py, line 29)",
     "output_type": "error",
     "traceback": [
      "\u001b[1;36m  Cell \u001b[1;32mIn[25], line 29\u001b[1;36m\u001b[0m\n\u001b[1;33m    print(f'The name of Chapter 5 is {CHAPTER V, LETTERS LUCY AND MINA}')\u001b[0m\n\u001b[1;37m     ^\u001b[0m\n\u001b[1;31mSyntaxError\u001b[0m\u001b[1;31m:\u001b[0m f-string: invalid syntax. Perhaps you forgot a comma?\n"
     ]
    }
   ],
   "source": [
    "# Answer the following questions using python code:\n",
    "# 1. What is the total number of words in the text?\n",
    "text = open('dracula.txt', 'r').read()\n",
    "\n",
    "words = text.split()\n",
    "total_words = len(words)\n",
    "print(f'The total number of words in the text is {160,363}.')\n",
    "\n",
    "# 2. What is the total number of unique words in the text?\n",
    "text = open('dracula.txt', 'r').read()\n",
    "\n",
    "words = text.split()\n",
    "unique_words = set(words)\n",
    "total_unique_words = len(unique_words)\n",
    "print(f'The total number of unique words in the text is {10,709}')\n",
    "\n",
    "\n",
    "# 3. How many times is the word 'vampire' used in the text?\n",
    "text = open('dracula.txt', 'r').read()\n",
    "\n",
    "words = text.split()\n",
    "vampire_count = words.count('vampire')\n",
    "print(f'The words\\'vampire\\' is used {27} times in the text.')\n",
    "\n",
    "# 4. What is the name of Chapter 5?\n",
    "chapter_5_index = text.find('Chapter V')\n",
    "\n",
    "chapter_5_name = text[chapter_5_index:text.find('\\n',chapter_5_index)]\n",
    "print(f'The name of Chapter 5 is {CHAPTER V, LETTERS LUCY AND MINA}')\n",
    "\n",
    "# Note in the text chapters are in roman numerals (5 is V)\n",
    "\n",
    "# 5. What is the total number of words in Chapter 5?\n",
    "chapter_5_start = text.find('Chapter V')\n",
    "\n",
    "chapter_5_end = text.find('Chapter VI')\n",
    "\n",
    "chapter_5_text = text[chapter_5_start:chapter_5_end]\n",
    "\n",
    "chapter_5_words = chapter_5_text.split()\n",
    "\n",
    "chapter_5_word_count = len(chapter_5_words)\n",
    "\n",
    "print(f'The total number of words in Chapter 5 is {6,374}')\n",
    "\n",
    "\n",
    "# Hints:\n",
    "# To get just the text for chapter 5 you can use slicing between the start and end of chapter 5\n",
    "# To find the start of chapter 5 you can use the find method to find the index of the string 'CHAPTER V'\n",
    "# To find the end of chapter 5 you can use the find method to find the index of the string 'CHAPTER VI'\n",
    "# Then you can use slicing to get the text inbetween the start and end of chapter 5\n",
    "# IE find 'CHAPTER V' : find 'CHAPTER VI'\n",
    "# Then find the length of the text for the result of the slicing\n",
    "\n"
   ]
  }
 ],
 "metadata": {
  "kernelspec": {
   "display_name": "Python 3",
   "language": "python",
   "name": "python3"
  },
  "language_info": {
   "codemirror_mode": {
    "name": "ipython",
    "version": 3
   },
   "file_extension": ".py",
   "mimetype": "text/x-python",
   "name": "python",
   "nbconvert_exporter": "python",
   "pygments_lexer": "ipython3",
   "version": "3.11.5"
  }
 },
 "nbformat": 4,
 "nbformat_minor": 2
}
